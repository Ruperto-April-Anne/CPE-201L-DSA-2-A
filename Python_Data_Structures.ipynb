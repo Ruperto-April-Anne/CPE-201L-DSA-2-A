{
  "nbformat": 4,
  "nbformat_minor": 0,
  "metadata": {
    "colab": {
      "provenance": [],
      "authorship_tag": "ABX9TyMerav0fB9BAVpAHEV26pAA",
      "include_colab_link": true
    },
    "kernelspec": {
      "name": "python3",
      "display_name": "Python 3"
    },
    "language_info": {
      "name": "python"
    }
  },
  "cells": [
    {
      "cell_type": "markdown",
      "metadata": {
        "id": "view-in-github",
        "colab_type": "text"
      },
      "source": [
        "<a href=\"https://colab.research.google.com/github/Ruperto-April-Anne/CPE-201L-DSA-2-A/blob/main/Python_Data_Structures.ipynb\" target=\"_parent\"><img src=\"https://colab.research.google.com/assets/colab-badge.svg\" alt=\"Open In Colab\"/></a>"
      ]
    },
    {
      "cell_type": "markdown",
      "source": [
        "# Array"
      ],
      "metadata": {
        "id": "GTAj41dHHSZC"
      }
    },
    {
      "cell_type": "markdown",
      "source": [
        "> 1"
      ],
      "metadata": {
        "id": "SW3txj6cHVB4"
      }
    },
    {
      "cell_type": "code",
      "execution_count": 2,
      "metadata": {
        "colab": {
          "base_uri": "https://localhost:8080/",
          "height": 35
        },
        "id": "DG3VTx4GHKXo",
        "outputId": "3916b499-a070-435b-ad8d-de44f4f53c22"
      },
      "outputs": [
        {
          "output_type": "execute_result",
          "data": {
            "text/plain": [
              "'f'"
            ],
            "application/vnd.google.colaboratory.intrinsic+json": {
              "type": "string"
            }
          },
          "metadata": {},
          "execution_count": 2
        }
      ],
      "source": [
        "import array\n",
        "array.typecodes\n",
        "a = array.array('i', [1,2,3,4,5,6])\n",
        "b = array.array('f',[1.5,2.5,3.5,4.5,5.5])\n",
        "a.typecode\n",
        "b.typecode"
      ]
    },
    {
      "cell_type": "markdown",
      "source": [
        "> 2"
      ],
      "metadata": {
        "id": "Q2McbWJaH7Mo"
      }
    },
    {
      "cell_type": "code",
      "source": [
        "from array import array\n",
        "a = array('i',[4,5,6,7])\n",
        "a.insert(1,2)\n",
        "a"
      ],
      "metadata": {
        "colab": {
          "base_uri": "https://localhost:8080/"
        },
        "id": "MK9H4LRMIAcQ",
        "outputId": "510602dc-d047-463f-f79b-d47d290dd683"
      },
      "execution_count": 3,
      "outputs": [
        {
          "output_type": "execute_result",
          "data": {
            "text/plain": [
              "array('i', [4, 2, 5, 6, 7])"
            ]
          },
          "metadata": {},
          "execution_count": 3
        }
      ]
    },
    {
      "cell_type": "code",
      "source": [
        "from array import array\n",
        "a = array('i',[4,5,6,7])\n",
        "a.insert(-1,0)\n",
        "a.insert(10,-1)\n",
        "a"
      ],
      "metadata": {
        "colab": {
          "base_uri": "https://localhost:8080/"
        },
        "id": "LS655cErIXCh",
        "outputId": "39bb9968-2ccc-4a0e-8b24-1e05b1c9f185"
      },
      "execution_count": 4,
      "outputs": [
        {
          "output_type": "execute_result",
          "data": {
            "text/plain": [
              "array('i', [4, 5, 6, 0, 7, -1])"
            ]
          },
          "metadata": {},
          "execution_count": 4
        }
      ]
    },
    {
      "cell_type": "markdown",
      "source": [
        "> 3"
      ],
      "metadata": {
        "id": "s8jbtAFnIv-Y"
      }
    },
    {
      "cell_type": "code",
      "source": [
        "class Node:\n",
        "  def __init__(self,data):\n",
        "    self.data = data\n",
        "    self.next = None\n",
        "\n",
        "class LinkedList:\n",
        "  def __init__(self):\n",
        "    self.head = None"
      ],
      "metadata": {
        "id": "nu6ArPwmIxG4"
      },
      "execution_count": 13,
      "outputs": []
    },
    {
      "cell_type": "markdown",
      "source": [
        "> 4"
      ],
      "metadata": {
        "id": "3hlLwwbeJyOQ"
      }
    },
    {
      "cell_type": "code",
      "source": [
        "class Node:\n",
        "  def __init__(self,data):\n",
        "    self.data = data\n",
        "    self.next = None\n",
        "\n",
        "class LinkedList:\n",
        "  def __init__(self):\n",
        "    self.head = None\n",
        "\n",
        "if __name__=='__main__':\n",
        "\n",
        "  llist = LinkedList()\n",
        "\n",
        "  llist.head = Node(1)\n",
        "  second = Node(2)\n",
        "  third = Node(3)\n",
        "\n",
        "  llist.head.next = second\n",
        "  second.next = third"
      ],
      "metadata": {
        "id": "S8qRxAaiJzKI"
      },
      "execution_count": 14,
      "outputs": []
    },
    {
      "cell_type": "markdown",
      "source": [
        "# **Stacks**"
      ],
      "metadata": {
        "id": "2MtSaqXNKo64"
      }
    },
    {
      "cell_type": "code",
      "source": [
        "class Stack:\n",
        "  def __init__(self):\n",
        "    self.stack = []\n",
        "\n",
        "  def add(self,dataval):\n",
        "    if dataval not in self.stack:\n",
        "      self.stack.append(dataval)\n",
        "      return True\n",
        "    else:\n",
        "      return False\n",
        "\n",
        "  def remove(self):\n",
        "    if len(self.stack) <= 0:\n",
        "      return ('No element in the Stack')\n",
        "    else:\n",
        "      return self.stack.pop()\n",
        "\n",
        "AStack = Stack()\n",
        "AStack.add(\"A\")\n",
        "AStack.add(\"E\")\n",
        "AStack.add(\"I\")\n",
        "AStack.add(\"O\")\n",
        "AStack.add(\"U\")\n",
        "print(AStack.remove())\n",
        "print(AStack.remove())"
      ],
      "metadata": {
        "colab": {
          "base_uri": "https://localhost:8080/"
        },
        "id": "WiegckOUKzZI",
        "outputId": "a24e7b3d-a2e8-4c7d-9e26-59a5c877c7e8"
      },
      "execution_count": 17,
      "outputs": [
        {
          "output_type": "stream",
          "name": "stdout",
          "text": [
            "U\n",
            "O\n"
          ]
        }
      ]
    }
  ]
}