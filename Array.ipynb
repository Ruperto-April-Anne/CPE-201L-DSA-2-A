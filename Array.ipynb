{
  "nbformat": 4,
  "nbformat_minor": 0,
  "metadata": {
    "colab": {
      "provenance": [],
      "authorship_tag": "ABX9TyP/85spaJA7mRls1A2UAuZ6",
      "include_colab_link": true
    },
    "kernelspec": {
      "name": "python3",
      "display_name": "Python 3"
    },
    "language_info": {
      "name": "python"
    }
  },
  "cells": [
    {
      "cell_type": "markdown",
      "metadata": {
        "id": "view-in-github",
        "colab_type": "text"
      },
      "source": [
        "<a href=\"https://colab.research.google.com/github/Ruperto-April-Anne/CPE-201L-DSA-2-A/blob/main/Array.ipynb\" target=\"_parent\"><img src=\"https://colab.research.google.com/assets/colab-badge.svg\" alt=\"Open In Colab\"/></a>"
      ]
    },
    {
      "cell_type": "code",
      "execution_count": null,
      "metadata": {
        "id": "atqNCjeYXeoZ"
      },
      "outputs": [],
      "source": [
        "def traverse_array(arr):\n",
        "    \"\"\"Function to traverse and print all elements in the array\"\"\"\n",
        "    print(\"Traversing The Array\")\n",
        "    for i, element in enumerate(arr):\n",
        "        print(f\"Index {i}: {element}\")\n",
        "\n",
        "def reverse(arr):\n",
        "  print(\"Reversing All Elements:\")\n",
        "  reversed_arr = arr[::-1]\n",
        "  print(reversed_arr)\n",
        "\n",
        "def sort(arr):\n",
        "  print(\"Sorting All Elements\")\n",
        "  sorted_arr = sorted(arr)\n",
        "  print(sorted_arr)\n",
        "\n",
        "def insert(arr):\n",
        "  insert_arr = int(input(\"New element:\"))\n",
        "  arr.append(insert_arr)\n",
        "  print(arr)\n",
        "\n",
        "def delete(arr):\n",
        "  delete_arr = int(input(\"Delete Element:\"))\n",
        "  arr.remove(delete_arr)\n",
        "  print(arr)\n",
        "\n",
        "\n",
        "def main():\n",
        "    # Initialize an array\n",
        "    arr = [10, 30, 20, 50, 40]\n",
        "    print(\"Original array:\", arr)\n",
        "\n",
        "    while True:\n",
        "        print(\"\\nMenu:\")\n",
        "        print(\"1. Traverse Array\")\n",
        "        print(\"2.Reverse Array\")\n",
        "        print(\"3.Sorted Array\")\n",
        "        print(\"4.New Array\")\n",
        "        print(\"5.Delete Array\")\n",
        "        print(\"6.Exit\")\n",
        "        choice = input(\"Enter your choice (1-6): \")\n",
        "\n",
        "        if choice == '1':\n",
        "            traverse_array(arr)\n",
        "        elif choice == '2':\n",
        "          reverse(arr)\n",
        "        elif choice == '3':\n",
        "          sort(arr)\n",
        "        elif choice == '4':\n",
        "          insert(arr)\n",
        "        elif choice == '5':\n",
        "          delete(arr)\n",
        "        elif choice == '6':\n",
        "          print(\"Exiting Program...\")\n",
        "          break\n",
        "        else:\n",
        "            print(\"Invalid choice\")\n",
        "\n",
        "if __name__ == \"__main__\":\n",
        "    main()"
      ]
    }
  ]
}