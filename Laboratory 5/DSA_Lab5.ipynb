{
  "nbformat": 4,
  "nbformat_minor": 0,
  "metadata": {
    "colab": {
      "provenance": [],
      "authorship_tag": "ABX9TyMpcepxC5FWnbWCoghiO0ZH",
      "include_colab_link": true
    },
    "kernelspec": {
      "name": "python3",
      "display_name": "Python 3"
    },
    "language_info": {
      "name": "python"
    }
  },
  "cells": [
    {
      "cell_type": "markdown",
      "metadata": {
        "id": "view-in-github",
        "colab_type": "text"
      },
      "source": [
        "<a href=\"https://colab.research.google.com/github/Ruperto-April-Anne/CPE-201L-DSA-2-A/blob/main/DSA_Lab5.ipynb\" target=\"_parent\"><img src=\"https://colab.research.google.com/assets/colab-badge.svg\" alt=\"Open In Colab\"/></a>"
      ]
    },
    {
      "cell_type": "markdown",
      "source": [
        "# Implementation of Arrays"
      ],
      "metadata": {
        "id": "QpzBZ5sLa9ow"
      }
    },
    {
      "cell_type": "markdown",
      "source": [
        "**SUM**"
      ],
      "metadata": {
        "id": "VS69RQ_BVcco"
      }
    },
    {
      "cell_type": "code",
      "source": [
        "def array_sum(arr):\n",
        "  sum = 0\n",
        "  for i in arr:\n",
        "    sum = sum + i\n",
        "  print(\"Sum of all Arrays: \", sum)\n",
        "\n",
        "arr = [1,2,3,4,5,6,7,8,9,10]\n",
        "print(\"Original Array: \", arr)\n",
        "array_sum(arr)"
      ],
      "metadata": {
        "id": "L3MjpCzZVkgv",
        "colab": {
          "base_uri": "https://localhost:8080/"
        },
        "outputId": "2f47f39c-14fc-418b-bfdb-cc64a9d0df87"
      },
      "execution_count": 25,
      "outputs": [
        {
          "output_type": "stream",
          "name": "stdout",
          "text": [
            "Original Array:  [1, 2, 3, 4, 5, 6, 7, 8, 9, 10]\n",
            "Sum of all Arrays:  55\n"
          ]
        }
      ]
    },
    {
      "cell_type": "markdown",
      "source": [
        "**APPEND (Adding new element at the end)**"
      ],
      "metadata": {
        "id": "bI3cQsDHVRDA"
      }
    },
    {
      "cell_type": "code",
      "source": [
        "def array_append(arr):\n",
        "  append_arr = int(input(\"New Element: \"))\n",
        "  arr.append(append_arr)\n",
        "  print(\"New Array: \", arr)\n",
        "\n",
        "\n",
        "arr = [1,2,3,4,5,6,7,8,9,10]\n",
        "print(\"Original Array: \", arr)\n",
        "array_append(arr)"
      ],
      "metadata": {
        "id": "As2yzZnnVb8f",
        "colab": {
          "base_uri": "https://localhost:8080/"
        },
        "outputId": "e878484a-ce25-4ea3-ebde-f808f9d20761"
      },
      "execution_count": 22,
      "outputs": [
        {
          "output_type": "stream",
          "name": "stdout",
          "text": [
            "Original Array:  [1, 2, 3, 4, 5, 6, 7, 8, 9, 10]\n",
            "New Element: 11\n",
            "New Array:  [1, 2, 3, 4, 5, 6, 7, 8, 9, 10, 11]\n"
          ]
        }
      ]
    },
    {
      "cell_type": "markdown",
      "source": [
        "**INSERT (Adding new element at the specified position)**"
      ],
      "metadata": {
        "id": "uFMcMQV5VTuI"
      }
    },
    {
      "cell_type": "code",
      "source": [
        "def insert_array(arr):\n",
        "  insert_arr = int(input(\"New Element: \"))\n",
        "  position = int(input(\"Position: \"))\n",
        "  arr.insert(position, insert_arr)\n",
        "  print(\"New Array: \", arr)\n",
        "\n",
        "\n",
        "arr = [1,2,3,4,5,6,7,8,9,10]\n",
        "print(\"Original Array: \", arr)\n",
        "insert_array(arr)"
      ],
      "metadata": {
        "id": "jKvHdBKXVQtA",
        "colab": {
          "base_uri": "https://localhost:8080/"
        },
        "outputId": "9bfacffa-2903-4efc-f56d-2844b325d0e0"
      },
      "execution_count": 29,
      "outputs": [
        {
          "output_type": "stream",
          "name": "stdout",
          "text": [
            "Original Array:  [1, 2, 3, 4, 5, 6, 7, 8, 9, 10]\n",
            "New Element: 11\n",
            "Position: 5\n",
            "New Array:  [1, 2, 3, 4, 5, 11, 6, 7, 8, 9, 10]\n"
          ]
        }
      ]
    },
    {
      "cell_type": "markdown",
      "source": [
        "**REVERSE**"
      ],
      "metadata": {
        "id": "_j1cB-WQUwcY"
      }
    },
    {
      "cell_type": "code",
      "source": [
        "def reverse(arr):\n",
        "  reversed_arr = arr[::-1]\n",
        "  print(\"Reversed Array: \", reversed_arr)\n",
        "\n",
        "\n",
        "arr = [5,4,3,2,1]\n",
        "print(\"Original Array: \", arr)\n",
        "reverse(arr)\n"
      ],
      "metadata": {
        "colab": {
          "base_uri": "https://localhost:8080/"
        },
        "id": "8FPlspr-TcIy",
        "outputId": "b94868a2-5d02-4322-e349-2c4f9a72f0b4"
      },
      "execution_count": 18,
      "outputs": [
        {
          "output_type": "stream",
          "name": "stdout",
          "text": [
            "Original Array:  [5, 4, 3, 2, 1]\n",
            "Reversed Array:  [1, 2, 3, 4, 5]\n"
          ]
        }
      ]
    },
    {
      "cell_type": "markdown",
      "source": [
        "**LENGHT**"
      ],
      "metadata": {
        "id": "v3Nf0qIwU-ZH"
      }
    },
    {
      "cell_type": "code",
      "source": [
        "def array_length(arr):\n",
        "    count = 0\n",
        "    for index, element in enumerate(arr):\n",
        "        count = index + 1\n",
        "    return count\n",
        "\n",
        "\n",
        "arr = [5, 4, 3, 2, 1]\n",
        "print(\"Original Array: \", arr)\n",
        "length = array_length(arr)\n",
        "print(\"Length of the array: \", length)\n"
      ],
      "metadata": {
        "id": "sNauvFMBX2gQ",
        "outputId": "42f96a8f-5cf3-41b4-9486-dc2776fdcb50",
        "colab": {
          "base_uri": "https://localhost:8080/"
        }
      },
      "execution_count": 19,
      "outputs": [
        {
          "output_type": "stream",
          "name": "stdout",
          "text": [
            "Original Array:  [5, 4, 3, 2, 1]\n",
            "Length of the array:  5\n"
          ]
        }
      ]
    }
  ]
}
