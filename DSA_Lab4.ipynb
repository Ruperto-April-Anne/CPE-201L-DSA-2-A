{
  "nbformat": 4,
  "nbformat_minor": 0,
  "metadata": {
    "colab": {
      "provenance": [],
      "authorship_tag": "ABX9TyOjqq/EO0Sbc2TGQw85h3B0",
      "include_colab_link": true
    },
    "kernelspec": {
      "name": "python3",
      "display_name": "Python 3"
    },
    "language_info": {
      "name": "python"
    }
  },
  "cells": [
    {
      "cell_type": "markdown",
      "metadata": {
        "id": "view-in-github",
        "colab_type": "text"
      },
      "source": [
        "<a href=\"https://colab.research.google.com/github/Ruperto-April-Anne/CPE-201L-DSA-2-A/blob/main/DSA_Lab4.ipynb\" target=\"_parent\"><img src=\"https://colab.research.google.com/assets/colab-badge.svg\" alt=\"Open In Colab\"/></a>"
      ]
    },
    {
      "cell_type": "code",
      "execution_count": 5,
      "metadata": {
        "colab": {
          "base_uri": "https://localhost:8080/"
        },
        "id": "WPh7zzlJisZE",
        "outputId": "19f3ad60-f7c5-4c91-8a73-96b53cb91456"
      },
      "outputs": [
        {
          "output_type": "stream",
          "name": "stdout",
          "text": [
            "Jenna's Grocery List:\n",
            "Fruit: Apple - Php10, 7x\n",
            "Fruit: Banana - Php10, 8x\n",
            "Vegetable: Broccoli - Php60, 12x\n",
            "Vegetable: Lettuce - Php50, 10x\n",
            "\n",
            "Total Sum: Php1370\n",
            "\n",
            "Updated Grocery List after removing Lettuce:\n",
            "Lettuce has been deleted.\n",
            "Fruit: Apple - Php10, 7x\n",
            "Fruit: Banana - Php10, 8x\n",
            "Vegetable: Broccoli - Php60, 12x\n",
            "\n",
            "Clearing the Grocery List\n",
            "Banana has been deleted.\n",
            "Apple has been deleted.\n",
            "Broccoli has been deleted.\n"
          ]
        }
      ],
      "source": [
        "class Item:\n",
        "    def __init__(self, name, price, quantity):\n",
        "        self.name = name\n",
        "        self.price = price\n",
        "        self.quantity = quantity\n",
        "\n",
        "    def __del__(self):\n",
        "        print(f\"{self.name} has been deleted.\")\n",
        "\n",
        "    def __copy__(self):\n",
        "        return Item(self.name, self.price, self.quantity)\n",
        "\n",
        "    def __repr__(self):\n",
        "        return f\"{self.name} - Php{self.price}, {self.quantity}x\"\n",
        "\n",
        "    def calculate_total(self):\n",
        "        return self.price * self.quantity\n",
        "\n",
        "\n",
        "class Fruit(Item):\n",
        "    def __init__(self, name, price, quantity):\n",
        "        super().__init__(name, price, quantity)\n",
        "\n",
        "    def __repr__(self):\n",
        "        return f\"Fruit: {super().__repr__()}\"\n",
        "\n",
        "\n",
        "class Vegetable(Item):\n",
        "    def __init__(self, name, price, quantity):\n",
        "        super().__init__(name, price, quantity)\n",
        "\n",
        "    def __repr__(self):\n",
        "        return f\"Vegetable: {super().__repr__()}\"\n",
        "\n",
        "\n",
        "def total_sum(grocery_list):\n",
        "    total = sum(item.calculate_total() for item in grocery_list)\n",
        "    return total\n",
        "\n",
        "\n",
        "def main():\n",
        "    grocery_list = [\n",
        "        Fruit(\"Apple\", 10, 7),\n",
        "        Fruit(\"Banana\", 10, 8),\n",
        "        Vegetable(\"Broccoli\", 60, 12),\n",
        "        Vegetable(\"Lettuce\", 50, 10)\n",
        "    ]\n",
        "\n",
        "    print(\"Jenna's Grocery List:\")\n",
        "    for item in grocery_list:\n",
        "        print(item)\n",
        "\n",
        "    total = total_sum(grocery_list)\n",
        "    print(f\"\\nTotal Sum: Php{total}\")\n",
        "\n",
        "    grocery_list = [item for item in grocery_list if item.name != \"Lettuce\"]\n",
        "\n",
        "    print(\"\\nUpdated Grocery List after removing Lettuce:\")\n",
        "    for item in grocery_list:\n",
        "        print(item)\n",
        "\n",
        "    print(\"\\nClearing the Grocery List\")\n",
        "    del grocery_list\n",
        "\n",
        "\n",
        "if __name__ == \"__main__\":\n",
        "    main()\n"
      ]
    }
  ]
}