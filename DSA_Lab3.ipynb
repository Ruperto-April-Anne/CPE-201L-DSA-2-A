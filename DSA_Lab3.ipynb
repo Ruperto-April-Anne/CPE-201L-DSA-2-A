{
  "nbformat": 4,
  "nbformat_minor": 0,
  "metadata": {
    "colab": {
      "provenance": [],
      "authorship_tag": "ABX9TyMmgD7QVgmysHOLYOIvRVSY",
      "include_colab_link": true
    },
    "kernelspec": {
      "name": "python3",
      "display_name": "Python 3"
    },
    "language_info": {
      "name": "python"
    }
  },
  "cells": [
    {
      "cell_type": "markdown",
      "metadata": {
        "id": "view-in-github",
        "colab_type": "text"
      },
      "source": [
        "<a href=\"https://colab.research.google.com/github/Ruperto-April-Anne/CPE-201L-DSA-2-A/blob/main/DSA_Lab3.ipynb\" target=\"_parent\"><img src=\"https://colab.research.google.com/assets/colab-badge.svg\" alt=\"Open In Colab\"/></a>"
      ]
    },
    {
      "cell_type": "code",
      "execution_count": 1,
      "metadata": {
        "colab": {
          "base_uri": "https://localhost:8080/"
        },
        "id": "UuJ4zmiPfhTf",
        "outputId": "0b019acf-4bbb-44ce-9be9-a6400f47781c"
      },
      "outputs": [
        {
          "output_type": "stream",
          "name": "stdout",
          "text": [
            "Sum of even test scores: 186\n"
          ]
        }
      ],
      "source": [
        "sum_even = 0\n",
        "scores = [26, 49, 98, 87, 62, 75]\n",
        "\n",
        "for score in scores:\n",
        "    if score % 2 == 0:\n",
        "        sum_even += score\n",
        "\n",
        "print(\"Sum of even test scores:\", sum_even)\n"
      ]
    }
  ]
}