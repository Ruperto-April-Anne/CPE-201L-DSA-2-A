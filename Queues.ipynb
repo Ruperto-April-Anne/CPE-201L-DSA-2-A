{
  "nbformat": 4,
  "nbformat_minor": 0,
  "metadata": {
    "colab": {
      "provenance": [],
      "authorship_tag": "ABX9TyPASwG/gGuZRduSEU3BphDX",
      "include_colab_link": true
    },
    "kernelspec": {
      "name": "python3",
      "display_name": "Python 3"
    },
    "language_info": {
      "name": "python"
    }
  },
  "cells": [
    {
      "cell_type": "markdown",
      "metadata": {
        "id": "view-in-github",
        "colab_type": "text"
      },
      "source": [
        "<a href=\"https://colab.research.google.com/github/Ruperto-April-Anne/CPE-201L-DSA-2-A/blob/main/Queues.ipynb\" target=\"_parent\"><img src=\"https://colab.research.google.com/assets/colab-badge.svg\" alt=\"Open In Colab\"/></a>"
      ]
    },
    {
      "cell_type": "code",
      "execution_count": null,
      "metadata": {
        "id": "7ALjLpNFtPR-"
      },
      "outputs": [],
      "source": [
        "class Queue:\n",
        "    def __init__(self):\n",
        "        self.queue = []\n",
        "\n",
        "    def enqueue(self, dataval):\n",
        "        # Use list append method to add element\n",
        "        if dataval not in self.queue:\n",
        "            self.queue.append(dataval)\n",
        "            return True\n",
        "        else:\n",
        "            return False\n",
        "\n",
        "    def dequeue(self):\n",
        "        # Remove and return the top element (last in first out)\n",
        "        if len(self.queue) <= 0:\n",
        "            return \"Queue is empty\"\n",
        "        else:\n",
        "            return self.queue.pop(0)\n",
        "    def display(self):\n",
        "      for item in self.queue:    #stack = [\"Sun\",\"Mon\",\"Tues\",\"Wed\",\"Thurs\",\"Fri\",\"Sat\"]\n",
        "        print(item)\n",
        "\n",
        "    def empty_queue(self):\n",
        "        self.queue = []\n",
        "        print(\"empty_queue\")\n",
        "\n",
        "    def top_element(self):\n",
        "        pass\n",
        "\n",
        "    def head_queue(self):\n",
        "        if len(self.queue) > 0:\n",
        "            return f'HEAD: {self.queue[0]}'\n",
        "        else:\n",
        "            return 'empthy'\n",
        "\n",
        "    def tail_queue(self):\n",
        "        if len(self.queue) > 1:\n",
        "            return f'TAIL: {self.queue[1:]}'\n",
        "\n",
        "AQueue = Queue()\n",
        "AQueue.enqueue(\"Sun\")\n",
        "AQueue.enqueue(\"Mon\")\n",
        "AQueue.enqueue(\"Tue\")\n",
        "AQueue.enqueue(\"Wed\")\n",
        "AQueue.enqueue(\"Thu\")\n",
        "AQueue.enqueue(\"Fri\")\n",
        "AQueue.enqueue(\"Sat\")\n",
        "\n",
        "print(AQueue.head_queue())\n",
        "print(AQueue.tail_queue())\n",
        "AQueue.dequeue()\n",
        "\n",
        "AQueue.display()\n",
        "\n",
        "print(AQueue.head_queue())\n",
        "print(AQueue.tail_queue())\n",
        "AQueue.display()"
      ]
    }
  ]
}