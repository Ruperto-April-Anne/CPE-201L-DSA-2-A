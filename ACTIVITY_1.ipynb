{
  "nbformat": 4,
  "nbformat_minor": 0,
  "metadata": {
    "colab": {
      "provenance": [],
      "authorship_tag": "ABX9TyNDqrI03ZX8sVN4NBO4H4br",
      "include_colab_link": true
    },
    "kernelspec": {
      "name": "python3",
      "display_name": "Python 3"
    },
    "language_info": {
      "name": "python"
    }
  },
  "cells": [
    {
      "cell_type": "markdown",
      "metadata": {
        "id": "view-in-github",
        "colab_type": "text"
      },
      "source": [
        "<a href=\"https://colab.research.google.com/github/Ruperto-April-Anne/CPE-201L-DSA-2-A/blob/main/ACTIVITY_1.ipynb\" target=\"_parent\"><img src=\"https://colab.research.google.com/assets/colab-badge.svg\" alt=\"Open In Colab\"/></a>"
      ]
    },
    {
      "cell_type": "markdown",
      "source": [
        "# Area of Circle"
      ],
      "metadata": {
        "id": "ywlz9lz8zzRh"
      }
    },
    {
      "cell_type": "markdown",
      "source": [
        "**Algorithm 1**"
      ],
      "metadata": {
        "id": "CHjXFAeAy8F6"
      }
    },
    {
      "cell_type": "code",
      "execution_count": 7,
      "metadata": {
        "colab": {
          "base_uri": "https://localhost:8080/"
        },
        "id": "E_0kXAOby1Uy",
        "outputId": "22d0e765-396b-4218-eaed-000ff24843a0"
      },
      "outputs": [
        {
          "output_type": "stream",
          "name": "stdout",
          "text": [
            "Radius: 5\n",
            "Area of circle is 78.53981633974483\n"
          ]
        }
      ],
      "source": [
        "import cmath\n",
        "\n",
        "radius = input(\"Radius: \")\n",
        "area = cmath.pi * float(radius) ** 2\n",
        "\n",
        "print(\"Area of circle is\", area)\n"
      ]
    },
    {
      "cell_type": "markdown",
      "source": [
        "**Algorithm 2**"
      ],
      "metadata": {
        "id": "vVG_llInzFIi"
      }
    },
    {
      "cell_type": "code",
      "source": [
        "import cmath\n",
        "\n",
        "diameter = input(\"Diameter: \")\n",
        "area = cmath.pi/4 * float(diameter) ** 2\n",
        "\n",
        "print(\"Area of circle is\", area)"
      ],
      "metadata": {
        "colab": {
          "base_uri": "https://localhost:8080/"
        },
        "id": "VMzmjOXnzOoB",
        "outputId": "e980389a-ff23-4dc2-eda3-7e54980302f4"
      },
      "execution_count": 8,
      "outputs": [
        {
          "output_type": "stream",
          "name": "stdout",
          "text": [
            "Diameter: 10\n",
            "Area of circle is 78.53981633974483\n"
          ]
        }
      ]
    }
  ]
}