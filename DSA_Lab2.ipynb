{
  "nbformat": 4,
  "nbformat_minor": 0,
  "metadata": {
    "colab": {
      "provenance": [],
      "authorship_tag": "ABX9TyPlNYxRCrrj5klhL1EEIgGv",
      "include_colab_link": true
    },
    "kernelspec": {
      "name": "python3",
      "display_name": "Python 3"
    },
    "language_info": {
      "name": "python"
    }
  },
  "cells": [
    {
      "cell_type": "markdown",
      "metadata": {
        "id": "view-in-github",
        "colab_type": "text"
      },
      "source": [
        "<a href=\"https://colab.research.google.com/github/Ruperto-April-Anne/CPE-201L-DSA-2-A/blob/main/DSA_Lab2.ipynb\" target=\"_parent\"><img src=\"https://colab.research.google.com/assets/colab-badge.svg\" alt=\"Open In Colab\"/></a>"
      ]
    },
    {
      "cell_type": "code",
      "execution_count": 4,
      "metadata": {
        "id": "3-FMPfgL9Xy7",
        "colab": {
          "base_uri": "https://localhost:8080/"
        },
        "outputId": "93313086-89f4-4dbe-dd86-ab065a2f9707"
      },
      "outputs": [
        {
          "output_type": "stream",
          "name": "stdout",
          "text": [
            "Enter a value for x: 6\n",
            "The value of f(x) is: 6.0\n"
          ]
        }
      ],
      "source": [
        "x = float(input(\"Enter a value for x: \"))\n",
        "\n",
        "if x < 0:\n",
        "    f = -x\n",
        "else:\n",
        "    f = x\n",
        "\n",
        "print(\"The value of f(x) is:\", f)"
      ]
    }
  ]
}