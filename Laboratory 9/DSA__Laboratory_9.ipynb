{
  "nbformat": 4,
  "nbformat_minor": 0,
  "metadata": {
    "colab": {
      "provenance": [],
      "authorship_tag": "ABX9TyOvLZGx3gl+ZX7ZxBZYncHo",
      "include_colab_link": true
    },
    "kernelspec": {
      "name": "python3",
      "display_name": "Python 3"
    },
    "language_info": {
      "name": "python"
    }
  },
  "cells": [
    {
      "cell_type": "markdown",
      "metadata": {
        "id": "view-in-github",
        "colab_type": "text"
      },
      "source": [
        "<a href=\"https://colab.research.google.com/github/Ruperto-April-Anne/CPE-201L-DSA-2-A/blob/main/DSA__Laboratory_9.ipynb\" target=\"_parent\"><img src=\"https://colab.research.google.com/assets/colab-badge.svg\" alt=\"Open In Colab\"/></a>"
      ]
    },
    {
      "cell_type": "code",
      "execution_count": 1,
      "metadata": {
        "colab": {
          "base_uri": "https://localhost:8080/"
        },
        "id": "IWSO4CU8o8P-",
        "outputId": "33247915-ec24-4ea1-8fd7-1feeb585c454"
      },
      "outputs": [
        {
          "output_type": "stream",
          "name": "stdout",
          "text": [
            "Pushed Element: 1\n",
            "Pushed Element: 2\n",
            "Pushed Element: 3\n",
            "Pushed Element: 4\n",
            "Pushed Element: 5\n",
            "The elements in the stack are:['1', '2', '3', '4', '5']\n"
          ]
        }
      ],
      "source": [
        "# Stack implementation in python\n",
        "\n",
        "# Creating a stack\n",
        "def create_stack():\n",
        "    stack = []\n",
        "    return stack\n",
        "\n",
        "\n",
        "# Creating an empty stack\n",
        "def is_empty(stack):\n",
        "    return len(stack) == 0\n",
        "\n",
        "# Adding items into the stack\n",
        "def push(stack, item):\n",
        "    stack.append(item)\n",
        "    print(\"Pushed Element: \" + item)\n",
        "\n",
        "# Removing an element from the stack\n",
        "def pop(stack):\n",
        "    if (is_empty(stack)):\n",
        "        return \"The stack is empty\"\n",
        "    return stack.pop()\n",
        "\n",
        "stack = create_stack()\n",
        "push(stack, str(1))\n",
        "push(stack, str(2))\n",
        "push(stack, str(3))\n",
        "push(stack, str(4))\n",
        "push(stack, str(5))\n",
        "\n",
        "print(\"The elements in the stack are:\"+ str(stack))\n"
      ]
    },
    {
      "cell_type": "code",
      "source": [
        "# Queue implementation in Python\n",
        "\n",
        "# Creating a queue\n",
        "def create_queue():\n",
        "    queue = []\n",
        "    return queue\n",
        "\n",
        "# Checking if the queue is empty\n",
        "def is_empty(queue):\n",
        "    return len(queue) == 0\n",
        "\n",
        "# Adding items to the queue (Enqueue)\n",
        "def enqueue(queue, item):\n",
        "    queue.append(item)\n",
        "    print(\"Enqueued Element: \" + item)\n",
        "\n",
        "# Removing an element from the queue (Dequeue)\n",
        "def dequeue(queue):\n",
        "    if is_empty(queue):\n",
        "        return \"The queue is empty\"\n",
        "    return queue.pop(0)  # Removes the first element added\n",
        "\n",
        "# Display the current queue\n",
        "def display_queue(queue):\n",
        "    print(\"The elements in the queue are: \" + str(queue))\n",
        "\n",
        "\n",
        "# --- Main Program ---\n",
        "queue = create_queue()\n",
        "enqueue(queue, str(1))\n",
        "enqueue(queue, str(2))\n",
        "enqueue(queue, str(3))\n",
        "enqueue(queue, str(4))\n",
        "enqueue(queue, str(5))\n",
        "\n",
        "display_queue(queue)\n",
        "\n",
        "# Demonstrate removing elements\n",
        "print(\"Dequeued Element: \" + dequeue(queue))\n",
        "display_queue(queue)\n"
      ],
      "metadata": {
        "colab": {
          "base_uri": "https://localhost:8080/"
        },
        "id": "_8jHN8VOpmXz",
        "outputId": "dcb3dcf2-fc47-4ba9-82e7-7d48c5746210"
      },
      "execution_count": 2,
      "outputs": [
        {
          "output_type": "stream",
          "name": "stdout",
          "text": [
            "Enqueued Element: 1\n",
            "Enqueued Element: 2\n",
            "Enqueued Element: 3\n",
            "Enqueued Element: 4\n",
            "Enqueued Element: 5\n",
            "The elements in the queue are: ['1', '2', '3', '4', '5']\n",
            "Dequeued Element: 1\n",
            "The elements in the queue are: ['2', '3', '4', '5']\n"
          ]
        }
      ]
    }
  ]
}
