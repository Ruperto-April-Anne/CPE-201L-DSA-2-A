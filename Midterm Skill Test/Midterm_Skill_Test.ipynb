{
  "nbformat": 4,
  "nbformat_minor": 0,
  "metadata": {
    "colab": {
      "provenance": [],
      "authorship_tag": "ABX9TyPgz92H9iLWpYCfLx+CpPS+",
      "include_colab_link": true
    },
    "kernelspec": {
      "name": "python3",
      "display_name": "Python 3"
    },
    "language_info": {
      "name": "python"
    }
  },
  "cells": [
    {
      "cell_type": "markdown",
      "metadata": {
        "id": "view-in-github",
        "colab_type": "text"
      },
      "source": [
        "<a href=\"https://colab.research.google.com/github/Ruperto-April-Anne/CPE-201L-DSA-2-A/blob/main/Midterm_Skill_Test.ipynb\" target=\"_parent\"><img src=\"https://colab.research.google.com/assets/colab-badge.svg\" alt=\"Open In Colab\"/></a>"
      ]
    },
    {
      "cell_type": "markdown",
      "source": [
        "# Singly-Linked List"
      ],
      "metadata": {
        "id": "3-CQfg-dCKrd"
      }
    },
    {
      "cell_type": "code",
      "source": [
        "class Node:\n",
        "  def __init__(self, data):\n",
        "    self.data = data\n",
        "    self.next = None\n",
        "\n",
        "\n",
        "class SinglyLinkedList:\n",
        "  def __init__(self):\n",
        "    self.head = None\n",
        "    self.tail = None\n",
        "\n",
        "  def print_data(self):\n",
        "    current = self.head\n",
        "    while current:\n",
        "      print(current.data, end = \" > \")\n",
        "      current = current.next\n",
        "    print(None)\n",
        "\n",
        "  def insert_at_end(self, data):\n",
        "    new_node = Node(data)\n",
        "    if not self.head:\n",
        "      self.head = new_node\n",
        "      self.tail = new_node\n",
        "    else:\n",
        "      self.tail.next = new_node\n",
        "      self.tail = new_node\n",
        "\n",
        "  def delete_from_end(self):\n",
        "    deleted_data = self.tail.data\n",
        "\n",
        "    if self.head == self.tail:\n",
        "      self.head = self.tail = None\n",
        "    else:\n",
        "      current = self.head\n",
        "      while current.next != self.tail:\n",
        "        current = current.next\n",
        "      current.next = None\n",
        "      self.tail = current\n",
        "\n",
        "    print(f\"Deleted {deleted_data} from end\")\n",
        "    return deleted_data\n",
        "\n",
        "\n",
        "def is_odd(num):\n",
        "    if num % 2 != 0:\n",
        "      return True\n",
        "    else:\n",
        "      return False\n",
        "\n",
        "\n",
        "def menu():\n",
        "  linked_list = SinglyLinkedList()\n",
        "  for number in range(1,30):\n",
        "    if is_odd(number):\n",
        "      linked_list.insert_at_end(number)\n",
        "  print(\"DATA:\")\n",
        "  linked_list.print_data()\n",
        "\n",
        "  while True:\n",
        "    print(\"\\nMenu\")\n",
        "    print(\"1. Display all data\")\n",
        "    print(\"2. Insert a node\")\n",
        "    print(\"3. Delete a node\")\n",
        "    print(\"4. Exit\")\n",
        "    choice = int(input(\"Enter your choice: \"))\n",
        "\n",
        "    if choice == 1:\n",
        "      linked_list.print_data()\n",
        "\n",
        "    if choice == 2:\n",
        "      data = int(input(\"Enter data: \"))\n",
        "      linked_list.insert_at_end(data)\n",
        "\n",
        "    if choice == 3:\n",
        "      linked_list.delete_from_end()\n",
        "\n",
        "    if choice == 4:\n",
        "      break\n",
        "\n",
        "if __name__ == \"__main__\":\n",
        "  SinglyLinkedList()\n",
        "\n",
        "menu()"
      ],
      "metadata": {
        "colab": {
          "base_uri": "https://localhost:8080/"
        },
        "id": "q7L-BMomI87c",
        "outputId": "4e573921-eb69-4639-f765-3407065a61d7"
      },
      "execution_count": 25,
      "outputs": [
        {
          "name": "stdout",
          "output_type": "stream",
          "text": [
            "DATA:\n",
            "1 > 3 > 5 > 7 > 9 > 11 > 13 > 15 > 17 > 19 > 21 > 23 > 25 > 27 > 29 > None\n",
            "\n",
            "Menu\n",
            "1. Display all data\n",
            "2. Insert a node\n",
            "3. Delete a node\n",
            "4. Exit\n",
            "Enter your choice: 1\n",
            "1 > 3 > 5 > 7 > 9 > 11 > 13 > 15 > 17 > 19 > 21 > 23 > 25 > 27 > 29 > None\n",
            "\n",
            "Menu\n",
            "1. Display all data\n",
            "2. Insert a node\n",
            "3. Delete a node\n",
            "4. Exit\n",
            "Enter your choice: 2\n",
            "Enter data: 30\n",
            "\n",
            "Menu\n",
            "1. Display all data\n",
            "2. Insert a node\n",
            "3. Delete a node\n",
            "4. Exit\n",
            "Enter your choice: 3\n",
            "Deleted 30 from end\n",
            "\n",
            "Menu\n",
            "1. Display all data\n",
            "2. Insert a node\n",
            "3. Delete a node\n",
            "4. Exit\n",
            "Enter your choice: 4\n"
          ]
        }
      ]
    }
  ]
}
